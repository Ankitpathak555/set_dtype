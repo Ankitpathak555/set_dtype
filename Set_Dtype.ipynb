{
  "nbformat": 4,
  "nbformat_minor": 0,
  "metadata": {
    "colab": {
      "name": "Set_Dtype.ipynb",
      "provenance": [],
      "collapsed_sections": []
    },
    "kernelspec": {
      "display_name": "Python 3",
      "language": "python",
      "name": "python3"
    },
    "language_info": {
      "codemirror_mode": {
        "name": "ipython",
        "version": 3
      },
      "file_extension": ".py",
      "mimetype": "text/x-python",
      "name": "python",
      "nbconvert_exporter": "python",
      "pygments_lexer": "ipython3",
      "version": "3.8.5"
    }
  },
  "cells": [
    {
      "cell_type": "code",
      "metadata": {
        "colab": {
          "base_uri": "https://localhost:8080/"
        },
        "id": "CTpqrX9_n3Sc",
        "outputId": "f45ed5fa-d4d0-4076-9eae-4f2fd3712a23"
      },
      "source": [
        "set1={1, '2'}\n",
        "set1\n"
      ],
      "execution_count": null,
      "outputs": [
        {
          "output_type": "execute_result",
          "data": {
            "text/plain": [
              "{1, '2'}"
            ]
          },
          "metadata": {
            "tags": []
          },
          "execution_count": 1
        }
      ]
    },
    {
      "cell_type": "markdown",
      "metadata": {
        "id": "jh5m4BfimJbE"
      },
      "source": [
        "**[Slide No. 41]**\n",
        "\n",
        "1. Write a Python program to create a set."
      ]
    },
    {
      "cell_type": "markdown",
      "metadata": {
        "id": "u1lQCDqqmJvW"
      },
      "source": [
        "**[Slide No.41]**\n",
        "\n",
        "2. Write a Python program to add member(s) in a set."
      ]
    },
    {
      "cell_type": "code",
      "metadata": {
        "colab": {
          "base_uri": "https://localhost:8080/"
        },
        "id": "G3Mwr81Wn3vK",
        "outputId": "6c678698-d175-4433-8647-09b974b336b5"
      },
      "source": [
        "set1.add(12)\n",
        "set1"
      ],
      "execution_count": null,
      "outputs": [
        {
          "output_type": "execute_result",
          "data": {
            "text/plain": [
              "{1, 12, '2'}"
            ]
          },
          "metadata": {
            "tags": []
          },
          "execution_count": 2
        }
      ]
    },
    {
      "cell_type": "markdown",
      "metadata": {
        "id": "_K8Yt3yCmJy7"
      },
      "source": [
        "**[Slide No. 41]**\n",
        " \n",
        " 3. Write a Python program to add string , int, list and float  member(s) in a set."
      ]
    },
    {
      "cell_type": "code",
      "metadata": {
        "colab": {
          "base_uri": "https://localhost:8080/"
        },
        "id": "LRjHXMPXn4RT",
        "outputId": "afdae8e5-6fbb-4f97-87bc-b0edd4abf5c2"
      },
      "source": [
        "set1.add(13)\n",
        "set1.add('abc')\n",
        "l1=[1,2,3]\n",
        "set1.update(l1)\n",
        "set1.add(3.4)\n",
        "set1"
      ],
      "execution_count": null,
      "outputs": [
        {
          "output_type": "execute_result",
          "data": {
            "text/plain": [
              "{1, 12, 13, 2, '2', 3, 3.4, '[1,2,3]', 'abc'}"
            ]
          },
          "metadata": {
            "tags": []
          },
          "execution_count": 8
        }
      ]
    },
    {
      "cell_type": "markdown",
      "metadata": {
        "id": "eP30xm0cmJ2K"
      },
      "source": [
        "**[Slide No. 41]**\n",
        "\n",
        "4. Write a program to add multiple element in set. "
      ]
    },
    {
      "cell_type": "code",
      "metadata": {
        "id": "wIt1MXX2n4va"
      },
      "source": [
        ""
      ],
      "execution_count": null,
      "outputs": []
    },
    {
      "cell_type": "markdown",
      "metadata": {
        "id": "MMb-QgjymJ5h"
      },
      "source": [
        "**[Slide No. 43]**\n",
        "\n",
        "5. What is the output :\n",
        "\n",
        "my_set = {1, 3, 4, 5, 6}\n",
        "\n",
        "Explain the difference between discard and remove method in set"
      ]
    },
    {
      "cell_type": "code",
      "metadata": {
        "id": "aWiaJsGBn5X1"
      },
      "source": [
        ""
      ],
      "execution_count": null,
      "outputs": []
    },
    {
      "cell_type": "code",
      "metadata": {
        "id": "mI-y-xuWi9u2"
      },
      "source": [
        ""
      ],
      "execution_count": null,
      "outputs": []
    },
    {
      "cell_type": "markdown",
      "metadata": {
        "id": "232Wx7ZqmJ7u"
      },
      "source": [
        "**[Slide No. 42]**\n",
        "\n",
        "6. Write a program to remove duplicate value from set.\n"
      ]
    },
    {
      "cell_type": "code",
      "metadata": {
        "id": "0eDe4Ofln56S"
      },
      "source": [
        ""
      ],
      "execution_count": null,
      "outputs": []
    },
    {
      "cell_type": "markdown",
      "metadata": {
        "id": "UuFjaDp7mJ-0"
      },
      "source": [
        "7.  Write a Python program to clear a set."
      ]
    },
    {
      "cell_type": "code",
      "metadata": {
        "id": "2Wp51_BJn6XI"
      },
      "source": [
        ""
      ],
      "execution_count": null,
      "outputs": []
    },
    {
      "cell_type": "markdown",
      "metadata": {
        "id": "ymIOwvtSmKCN"
      },
      "source": [
        "**[Slide No. 43]**\n",
        "\n",
        "8. Write a program to add two set."
      ]
    },
    {
      "cell_type": "code",
      "metadata": {
        "id": "v7HfWA6On7DN"
      },
      "source": [
        ""
      ],
      "execution_count": null,
      "outputs": []
    },
    {
      "cell_type": "markdown",
      "metadata": {
        "id": "MYFq0syFmKFm"
      },
      "source": [
        "**[Slide No. 43]**\n",
        "\n",
        "9. What is the output of:\n",
        "\n",
        "months = set([\"January\",\"February\", \"March\", \"April\", \"May\", \"June\"])   \n",
        "\n",
        "print(\"\\nprinting the original set ... \")    \n",
        "\n",
        "-Q. Print the set month    \n",
        "\n",
        "print(\"\\nRemoving some months from the set...\");    \n",
        "\n",
        "-Q. Remove january  from the set    \n",
        "\n",
        "-Q. Remove may  from the set  \n",
        "\n",
        "\n",
        "print(\"\\nPrinting the modified set...\");    \n",
        "\n",
        "print(months)  \n",
        "\n"
      ]
    },
    {
      "cell_type": "code",
      "metadata": {
        "id": "YSeAk9Bin7ij"
      },
      "source": [
        ""
      ],
      "execution_count": null,
      "outputs": []
    },
    {
      "cell_type": "markdown",
      "metadata": {
        "id": "OPGKae_wmKIy"
      },
      "source": [
        "**[Slide No. 44]**\n",
        "\n",
        "10. Find union of\n",
        "\n",
        "Days1 = {\"Monday\",\"Tuesday\",\"Wednesday\",\"Thursday\"}\n",
        "    \n",
        "Days2 = {\"Friday\",\"Saturday\",\"Sunday\"}   "
      ]
    },
    {
      "cell_type": "code",
      "metadata": {
        "id": "IJBJD9D106cY"
      },
      "source": [
        ""
      ],
      "execution_count": null,
      "outputs": []
    },
    {
      "cell_type": "markdown",
      "metadata": {
        "id": "VpAPmiIBoNaS"
      },
      "source": [
        "**[Slide No. 45]**\n",
        "\n",
        " 11. Write a Python program to create an intersection of sets."
      ]
    },
    {
      "cell_type": "code",
      "metadata": {
        "id": "MRzfzZ3bn8O0"
      },
      "source": [
        ""
      ],
      "execution_count": null,
      "outputs": []
    },
    {
      "cell_type": "markdown",
      "metadata": {
        "id": "iIFHboGboH9v"
      },
      "source": [
        "**[Slide No. 45]**\n",
        "\n",
        "12. Write a Python program to create set difference."
      ]
    },
    {
      "cell_type": "code",
      "metadata": {
        "id": "E5RwOmVNtTie"
      },
      "source": [
        ""
      ],
      "execution_count": null,
      "outputs": []
    }
  ]
}